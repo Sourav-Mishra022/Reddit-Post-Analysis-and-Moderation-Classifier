{
 "cells": [
  {
   "cell_type": "code",
   "execution_count": 1,
   "id": "0825ed00-dccf-411a-b19e-a932d74eccd2",
   "metadata": {},
   "outputs": [
    {
     "name": "stdout",
     "output_type": "stream",
     "text": [
      "Requirement already satisfied: pandasql in d:\\anaconda download\\lib\\site-packages (0.7.3)\n",
      "Requirement already satisfied: numpy in d:\\anaconda download\\lib\\site-packages (from pandasql) (2.1.3)\n",
      "Requirement already satisfied: pandas in d:\\anaconda download\\lib\\site-packages (from pandasql) (2.2.3)\n",
      "Requirement already satisfied: sqlalchemy in d:\\anaconda download\\lib\\site-packages (from pandasql) (2.0.39)\n",
      "Requirement already satisfied: python-dateutil>=2.8.2 in d:\\anaconda download\\lib\\site-packages (from pandas->pandasql) (2.9.0.post0)\n",
      "Requirement already satisfied: pytz>=2020.1 in d:\\anaconda download\\lib\\site-packages (from pandas->pandasql) (2024.1)\n",
      "Requirement already satisfied: tzdata>=2022.7 in d:\\anaconda download\\lib\\site-packages (from pandas->pandasql) (2025.2)\n",
      "Requirement already satisfied: six>=1.5 in d:\\anaconda download\\lib\\site-packages (from python-dateutil>=2.8.2->pandas->pandasql) (1.17.0)\n",
      "Requirement already satisfied: greenlet!=0.4.17 in d:\\anaconda download\\lib\\site-packages (from sqlalchemy->pandasql) (3.1.1)\n",
      "Requirement already satisfied: typing-extensions>=4.6.0 in d:\\anaconda download\\lib\\site-packages (from sqlalchemy->pandasql) (4.12.2)\n",
      "Requirement already satisfied: imbalanced-learn in d:\\anaconda download\\lib\\site-packages (0.13.0)\n",
      "Requirement already satisfied: numpy<3,>=1.24.3 in d:\\anaconda download\\lib\\site-packages (from imbalanced-learn) (2.1.3)\n",
      "Requirement already satisfied: scipy<2,>=1.10.1 in d:\\anaconda download\\lib\\site-packages (from imbalanced-learn) (1.15.3)\n",
      "Requirement already satisfied: scikit-learn<2,>=1.3.2 in d:\\anaconda download\\lib\\site-packages (from imbalanced-learn) (1.6.1)\n",
      "Requirement already satisfied: sklearn-compat<1,>=0.1 in d:\\anaconda download\\lib\\site-packages (from imbalanced-learn) (0.1.3)\n",
      "Requirement already satisfied: joblib<2,>=1.1.1 in d:\\anaconda download\\lib\\site-packages (from imbalanced-learn) (1.4.2)\n",
      "Requirement already satisfied: threadpoolctl<4,>=2.0.0 in d:\\anaconda download\\lib\\site-packages (from imbalanced-learn) (3.5.0)\n"
     ]
    }
   ],
   "source": [
    "!pip install pandasql\n",
    "!pip install imbalanced-learn"
   ]
  },
  {
   "cell_type": "code",
   "execution_count": 2,
   "id": "cee1dc70-1321-448d-afb8-387280592a75",
   "metadata": {},
   "outputs": [],
   "source": [
    "import pandas as pd\n",
    "import numpy as np\n",
    "import matplotlib.pyplot as plt\n",
    "import seaborn as sns\n",
    "from pandasql import sqldf\n",
    "import re\n",
    "import nltk\n",
    "from nltk.corpus import stopwords\n",
    "from nltk.stem import PorterStemmer\n",
    "from nltk.tokenize import word_tokenize\n",
    "from sklearn.feature_extraction.text import TfidfVectorizer\n",
    "from sklearn.preprocessing import StandardScaler\n",
    "from scipy.sparse import hstack\n",
    "from sklearn.model_selection import train_test_split\n",
    "from imblearn.over_sampling import SMOTE\n",
    "from sklearn.tree import DecisionTreeClassifier\n",
    "from sklearn.ensemble import RandomForestClassifier\n",
    "from sklearn.metrics import classification_report, f1_score"
   ]
  },
  {
   "cell_type": "code",
   "execution_count": null,
   "id": "c3ece8b4-fc6e-4c53-8e81-25d26a550021",
   "metadata": {},
   "outputs": [],
   "source": []
  },
  {
   "cell_type": "markdown",
   "id": "de4c2745-40e9-4318-b364-816ab58bbdb8",
   "metadata": {},
   "source": [
    "# Data Loading and initial cleaning"
   ]
  },
  {
   "cell_type": "code",
   "execution_count": 3,
   "id": "9cd29776-79a4-4373-a447-de0d30d0c0e6",
   "metadata": {},
   "outputs": [
    {
     "name": "stderr",
     "output_type": "stream",
     "text": [
      "C:\\Users\\soura\\AppData\\Local\\Temp\\ipykernel_35736\\2197348113.py:1: DtypeWarning: Columns (5,7) have mixed types. Specify dtype option on import or set low_memory=False.\n",
      "  df = pd.read_csv('r_dataisbeautiful_posts.csv')\n",
      "C:\\Users\\soura\\AppData\\Local\\Temp\\ipykernel_35736\\2197348113.py:4: FutureWarning: A value is trying to be set on a copy of a DataFrame or Series through chained assignment using an inplace method.\n",
      "The behavior will change in pandas 3.0. This inplace method will never work because the intermediate object on which we are setting values always behaves as a copy.\n",
      "\n",
      "For example, when doing 'df[col].method(value, inplace=True)', try using 'df.method({col: value}, inplace=True)' or df[col] = df[col].method(value) instead, to perform the operation inplace on the original object.\n",
      "\n",
      "\n",
      "  df['total_awards_received'].fillna(0, inplace=True)\n",
      "C:\\Users\\soura\\AppData\\Local\\Temp\\ipykernel_35736\\2197348113.py:5: FutureWarning: A value is trying to be set on a copy of a DataFrame or Series through chained assignment using an inplace method.\n",
      "The behavior will change in pandas 3.0. This inplace method will never work because the intermediate object on which we are setting values always behaves as a copy.\n",
      "\n",
      "For example, when doing 'df[col].method(value, inplace=True)', try using 'df.method({col: value}, inplace=True)' or df[col] = df[col].method(value) instead, to perform the operation inplace on the original object.\n",
      "\n",
      "\n",
      "  df['removed_by'].fillna('Not Deleted', inplace=True)\n"
     ]
    }
   ],
   "source": [
    "df = pd.read_csv('r_dataisbeautiful_posts.csv')\n",
    "df.dropna(subset=['title'], inplace=True)\n",
    "df.drop(['id', 'author_flair_text', 'awarders', 'created_utc', 'full_link'], axis=1, inplace=True)\n",
    "df['total_awards_received'].fillna(0, inplace=True)\n",
    "df['removed_by'].fillna('Not Deleted', inplace=True)\n",
    "df['is_removed'] = df['removed_by'].apply(lambda x: 1 if x != 'Not Deleted' else 0)\n",
    "df.drop(['removed_by', 'over_18'], axis=1, inplace=True)\n"
   ]
  },
  {
   "cell_type": "code",
   "execution_count": 4,
   "id": "a0c9c9fa-aa9a-4e6a-98b2-52555d6d415a",
   "metadata": {},
   "outputs": [
    {
     "data": {
      "text/plain": [
       "(193090, 6)"
      ]
     },
     "execution_count": 4,
     "metadata": {},
     "output_type": "execute_result"
    }
   ],
   "source": [
    "df.shape"
   ]
  },
  {
   "cell_type": "code",
   "execution_count": 5,
   "id": "5c430b12-6a58-47de-b169-d2a2481f4df1",
   "metadata": {},
   "outputs": [
    {
     "data": {
      "text/html": [
       "<div>\n",
       "<style scoped>\n",
       "    .dataframe tbody tr th:only-of-type {\n",
       "        vertical-align: middle;\n",
       "    }\n",
       "\n",
       "    .dataframe tbody tr th {\n",
       "        vertical-align: top;\n",
       "    }\n",
       "\n",
       "    .dataframe thead th {\n",
       "        text-align: right;\n",
       "    }\n",
       "</style>\n",
       "<table border=\"1\" class=\"dataframe\">\n",
       "  <thead>\n",
       "    <tr style=\"text-align: right;\">\n",
       "      <th></th>\n",
       "      <th>score</th>\n",
       "      <th>total_awards_received</th>\n",
       "      <th>num_comments</th>\n",
       "      <th>is_removed</th>\n",
       "    </tr>\n",
       "  </thead>\n",
       "  <tbody>\n",
       "    <tr>\n",
       "      <th>count</th>\n",
       "      <td>193090.000000</td>\n",
       "      <td>193090.000000</td>\n",
       "      <td>193090.000000</td>\n",
       "      <td>193090.000000</td>\n",
       "    </tr>\n",
       "    <tr>\n",
       "      <th>mean</th>\n",
       "      <td>180.262090</td>\n",
       "      <td>0.001626</td>\n",
       "      <td>26.374639</td>\n",
       "      <td>0.081232</td>\n",
       "    </tr>\n",
       "    <tr>\n",
       "      <th>std</th>\n",
       "      <td>1946.312184</td>\n",
       "      <td>0.126901</td>\n",
       "      <td>206.887457</td>\n",
       "      <td>0.273191</td>\n",
       "    </tr>\n",
       "    <tr>\n",
       "      <th>min</th>\n",
       "      <td>0.000000</td>\n",
       "      <td>0.000000</td>\n",
       "      <td>0.000000</td>\n",
       "      <td>0.000000</td>\n",
       "    </tr>\n",
       "    <tr>\n",
       "      <th>25%</th>\n",
       "      <td>1.000000</td>\n",
       "      <td>0.000000</td>\n",
       "      <td>1.000000</td>\n",
       "      <td>0.000000</td>\n",
       "    </tr>\n",
       "    <tr>\n",
       "      <th>50%</th>\n",
       "      <td>1.000000</td>\n",
       "      <td>0.000000</td>\n",
       "      <td>1.000000</td>\n",
       "      <td>0.000000</td>\n",
       "    </tr>\n",
       "    <tr>\n",
       "      <th>75%</th>\n",
       "      <td>4.000000</td>\n",
       "      <td>0.000000</td>\n",
       "      <td>4.000000</td>\n",
       "      <td>0.000000</td>\n",
       "    </tr>\n",
       "    <tr>\n",
       "      <th>max</th>\n",
       "      <td>116226.000000</td>\n",
       "      <td>30.000000</td>\n",
       "      <td>18801.000000</td>\n",
       "      <td>1.000000</td>\n",
       "    </tr>\n",
       "  </tbody>\n",
       "</table>\n",
       "</div>"
      ],
      "text/plain": [
       "               score  total_awards_received   num_comments     is_removed\n",
       "count  193090.000000          193090.000000  193090.000000  193090.000000\n",
       "mean      180.262090               0.001626      26.374639       0.081232\n",
       "std      1946.312184               0.126901     206.887457       0.273191\n",
       "min         0.000000               0.000000       0.000000       0.000000\n",
       "25%         1.000000               0.000000       1.000000       0.000000\n",
       "50%         1.000000               0.000000       1.000000       0.000000\n",
       "75%         4.000000               0.000000       4.000000       0.000000\n",
       "max    116226.000000              30.000000   18801.000000       1.000000"
      ]
     },
     "execution_count": 5,
     "metadata": {},
     "output_type": "execute_result"
    }
   ],
   "source": [
    "df.describe()"
   ]
  },
  {
   "cell_type": "code",
   "execution_count": 6,
   "id": "34b51953-d703-43d9-98c9-844f754ece5b",
   "metadata": {},
   "outputs": [
    {
     "data": {
      "text/plain": [
       "title                    0\n",
       "score                    0\n",
       "author                   0\n",
       "total_awards_received    0\n",
       "num_comments             0\n",
       "is_removed               0\n",
       "dtype: int64"
      ]
     },
     "execution_count": 6,
     "metadata": {},
     "output_type": "execute_result"
    }
   ],
   "source": [
    "df.isna().sum()"
   ]
  },
  {
   "cell_type": "code",
   "execution_count": 8,
   "id": "a3d6b413-4620-423b-be54-89394a868e76",
   "metadata": {},
   "outputs": [
    {
     "data": {
      "text/html": [
       "<div>\n",
       "<style scoped>\n",
       "    .dataframe tbody tr th:only-of-type {\n",
       "        vertical-align: middle;\n",
       "    }\n",
       "\n",
       "    .dataframe tbody tr th {\n",
       "        vertical-align: top;\n",
       "    }\n",
       "\n",
       "    .dataframe thead th {\n",
       "        text-align: right;\n",
       "    }\n",
       "</style>\n",
       "<table border=\"1\" class=\"dataframe\">\n",
       "  <thead>\n",
       "    <tr style=\"text-align: right;\">\n",
       "      <th></th>\n",
       "      <th>title</th>\n",
       "      <th>score</th>\n",
       "      <th>author</th>\n",
       "      <th>total_awards_received</th>\n",
       "      <th>num_comments</th>\n",
       "      <th>is_removed</th>\n",
       "    </tr>\n",
       "  </thead>\n",
       "  <tbody>\n",
       "    <tr>\n",
       "      <th>0</th>\n",
       "      <td>[OC] The World’s Forests Mapped</td>\n",
       "      <td>1</td>\n",
       "      <td>vividmaps</td>\n",
       "      <td>0.0</td>\n",
       "      <td>1</td>\n",
       "      <td>0</td>\n",
       "    </tr>\n",
       "    <tr>\n",
       "      <th>1</th>\n",
       "      <td>[OC] Airbnb presence mapped in Barcelona (BCN)...</td>\n",
       "      <td>1</td>\n",
       "      <td>JonnieNeptune</td>\n",
       "      <td>0.0</td>\n",
       "      <td>0</td>\n",
       "      <td>0</td>\n",
       "    </tr>\n",
       "    <tr>\n",
       "      <th>2</th>\n",
       "      <td>A marketplace for open streaming data sources</td>\n",
       "      <td>1</td>\n",
       "      <td>DangerMouse289</td>\n",
       "      <td>0.0</td>\n",
       "      <td>0</td>\n",
       "      <td>1</td>\n",
       "    </tr>\n",
       "    <tr>\n",
       "      <th>3</th>\n",
       "      <td>[OC] Black Owner-Occupied Housing</td>\n",
       "      <td>1</td>\n",
       "      <td>SocialExplorerInc</td>\n",
       "      <td>0.0</td>\n",
       "      <td>1</td>\n",
       "      <td>0</td>\n",
       "    </tr>\n",
       "    <tr>\n",
       "      <th>4</th>\n",
       "      <td>[OC] My monthly average steps in 2020. Quarant...</td>\n",
       "      <td>1</td>\n",
       "      <td>ahmedgelemli</td>\n",
       "      <td>0.0</td>\n",
       "      <td>0</td>\n",
       "      <td>0</td>\n",
       "    </tr>\n",
       "  </tbody>\n",
       "</table>\n",
       "</div>"
      ],
      "text/plain": [
       "                                               title  score  \\\n",
       "0                    [OC] The World’s Forests Mapped      1   \n",
       "1  [OC] Airbnb presence mapped in Barcelona (BCN)...      1   \n",
       "2      A marketplace for open streaming data sources      1   \n",
       "3                  [OC] Black Owner-Occupied Housing      1   \n",
       "4  [OC] My monthly average steps in 2020. Quarant...      1   \n",
       "\n",
       "              author  total_awards_received  num_comments  is_removed  \n",
       "0          vividmaps                    0.0             1           0  \n",
       "1      JonnieNeptune                    0.0             0           0  \n",
       "2     DangerMouse289                    0.0             0           1  \n",
       "3  SocialExplorerInc                    0.0             1           0  \n",
       "4       ahmedgelemli                    0.0             0           0  "
      ]
     },
     "execution_count": 8,
     "metadata": {},
     "output_type": "execute_result"
    }
   ],
   "source": [
    "df.head()"
   ]
  },
  {
   "cell_type": "code",
   "execution_count": null,
   "id": "47894d58-bf97-42c5-bb95-2debe4c72d21",
   "metadata": {},
   "outputs": [],
   "source": []
  },
  {
   "cell_type": "markdown",
   "id": "0f09e607-e6dc-45e6-8fe3-af792838d252",
   "metadata": {},
   "source": [
    "# Text Preprocessing"
   ]
  },
  {
   "cell_type": "code",
   "execution_count": 9,
   "id": "89fb3bf2-b034-4218-bc08-bc9ff9b59c60",
   "metadata": {},
   "outputs": [
    {
     "name": "stderr",
     "output_type": "stream",
     "text": [
      "C:\\Users\\soura\\AppData\\Local\\Temp\\ipykernel_35736\\3642826513.py:8: DeprecationWarning: 'count' is passed as positional argument\n",
      "  text = re.sub(r'[^a-zA-Z\\s]', '', text, re.I|re.A)\n"
     ]
    }
   ],
   "source": [
    "nltk.download('punkt', quiet=True)\n",
    "nltk.download('stopwords', quiet=True)\n",
    "stemmer = PorterStemmer()\n",
    "stop_words = set(stopwords.words('english'))\n",
    "\n",
    "def preprocess_text(text):\n",
    "    text = re.sub(r'\\[.*?\\]', '', text)\n",
    "    text = re.sub(r'[^a-zA-Z\\s]', '', text, re.I|re.A)\n",
    "    text = text.lower()\n",
    "    tokens = word_tokenize(text)\n",
    "    stemmed_tokens = [stemmer.stem(word) for word in tokens if word not in stop_words]\n",
    "    return \" \".join(stemmed_tokens)\n",
    "\n",
    "df['cleaned_title'] = df['title'].apply(preprocess_text)\n"
   ]
  },
  {
   "cell_type": "code",
   "execution_count": null,
   "id": "63643774-b84f-4147-ac99-344c5846aa10",
   "metadata": {},
   "outputs": [],
   "source": []
  },
  {
   "cell_type": "markdown",
   "id": "ef4c2e70-41ee-4572-aa5c-12ac4f0538b3",
   "metadata": {},
   "source": [
    "# Feature Engineering"
   ]
  },
  {
   "cell_type": "code",
   "execution_count": 10,
   "id": "894c6aa5-fab0-44fe-a147-06f98f1aee69",
   "metadata": {},
   "outputs": [
    {
     "name": "stdout",
     "output_type": "stream",
     "text": [
      "--- Creating Improved Features ---\n",
      "Shape of combined feature matrix: (193090, 5003)\n"
     ]
    }
   ],
   "source": [
    "print(\"--- Creating Improved Features ---\")\n",
    "# a) TF-IDF for text features\n",
    "vectorizer = TfidfVectorizer(max_features=5000)\n",
    "X_text = vectorizer.fit_transform(df['cleaned_title'])\n",
    "\n",
    "# b) Scale the numeric features\n",
    "numeric_features = df[['score', 'num_comments', 'total_awards_received']]\n",
    "scaler = StandardScaler()\n",
    "X_numeric = scaler.fit_transform(numeric_features)\n",
    "\n",
    "# c) Combine text and numeric features\n",
    "# hstack is used to combine sparse (TF-IDF) and dense (numeric) matrices\n",
    "X_combined = hstack([X_text, X_numeric])\n",
    "y = df['is_removed']\n",
    "\n",
    "print(\"Shape of combined feature matrix:\", X_combined.shape)"
   ]
  },
  {
   "cell_type": "markdown",
   "id": "2da6af55-8d7f-42b2-b754-fbe2456e7e91",
   "metadata": {},
   "source": [
    "# Model Training"
   ]
  },
  {
   "cell_type": "code",
   "execution_count": 11,
   "id": "6c208b84-753c-4dc0-b88a-5c7c9b895203",
   "metadata": {},
   "outputs": [
    {
     "name": "stdout",
     "output_type": "stream",
     "text": [
      "\n",
      "--- Model Training with SMOTE ---\n",
      "Shape of training data before SMOTE: (154472, 5003)\n",
      "Shape of training data after SMOTE: (283848, 5003)\n",
      "\n",
      "Training set class distribution after SMOTE:\n",
      " is_removed\n",
      "0    141924\n",
      "1    141924\n",
      "Name: count, dtype: int64\n",
      "\n",
      "--- Improved Random Forest Results ---\n",
      "              precision    recall  f1-score   support\n",
      "\n",
      "           0       0.95      0.95      0.95     35481\n",
      "           1       0.45      0.47      0.46      3137\n",
      "\n",
      "    accuracy                           0.91     38618\n",
      "   macro avg       0.70      0.71      0.71     38618\n",
      "weighted avg       0.91      0.91      0.91     38618\n",
      "\n",
      "Random Forest F1-Score: 0.46\n"
     ]
    }
   ],
   "source": [
    "print(\"\\n--- Model Training with SMOTE ---\")\n",
    "\n",
    "# a) Train-Test Split (BEFORE applying SMOTE)\n",
    "X_train, X_test, y_train, y_test = train_test_split(X_combined, y, test_size=0.2, random_state=42, stratify=y)\n",
    "\n",
    "# b) Apply SMOTE to the training data only\n",
    "smote = SMOTE(random_state=42)\n",
    "X_train_resampled, y_train_resampled = smote.fit_resample(X_train, y_train)\n",
    "\n",
    "print(f\"Shape of training data before SMOTE: {X_train.shape}\")\n",
    "print(f\"Shape of training data after SMOTE: {X_train_resampled.shape}\")\n",
    "print(\"\\nTraining set class distribution after SMOTE:\\n\", y_train_resampled.value_counts())\n",
    "\n",
    "# c) Train Random Forest Model on the resampled data\n",
    "# We remove class_weight='balanced' now because SMOTE has already balanced the data\n",
    "rf_classifier = RandomForestClassifier(random_state=42, n_estimators=100)\n",
    "rf_classifier.fit(X_train_resampled, y_train_resampled)\n",
    "y_pred_rf = rf_classifier.predict(X_test)\n",
    "\n",
    "# d) Evaluate the improved model\n",
    "print(\"\\n--- Improved Random Forest Results ---\")\n",
    "print(classification_report(y_test, y_pred_rf))\n",
    "print(f\"Random Forest F1-Score: {f1_score(y_test, y_pred_rf):.2f}\")"
   ]
  },
  {
   "cell_type": "code",
   "execution_count": null,
   "id": "416c3d6e-76c9-485e-a95d-10dfa726fa9f",
   "metadata": {},
   "outputs": [],
   "source": []
  }
 ],
 "metadata": {
  "kernelspec": {
   "display_name": "Python [conda env:base] *",
   "language": "python",
   "name": "conda-base-py"
  },
  "language_info": {
   "codemirror_mode": {
    "name": "ipython",
    "version": 3
   },
   "file_extension": ".py",
   "mimetype": "text/x-python",
   "name": "python",
   "nbconvert_exporter": "python",
   "pygments_lexer": "ipython3",
   "version": "3.13.5"
  }
 },
 "nbformat": 4,
 "nbformat_minor": 5
}
